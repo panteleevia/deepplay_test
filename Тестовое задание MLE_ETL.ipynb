{
 "cells": [
  {
   "cell_type": "markdown",
   "id": "7d62d978-2175-406f-9f4b-ed0069228e35",
   "metadata": {},
   "source": [
    "![Название изображения](poster_event_1930847.jpg)"
   ]
  },
  {
   "cell_type": "markdown",
   "id": "d44448a8-c8f9-466c-85e7-678e574a1127",
   "metadata": {},
   "source": [
    "<p>Мне сказали, что у вас любят шутки :-)</p>"
   ]
  },
  {
   "cell_type": "markdown",
   "id": "e6c9047a-8725-439c-adf8-79bbfb63968d",
   "metadata": {},
   "source": [
    "## Контекст"
   ]
  },
  {
   "cell_type": "markdown",
   "id": "a2fc45ae-219b-4dd0-8705-780715945a4e",
   "metadata": {},
   "source": [
    "Вы работаете с покерной платформой, на которой существует несколько типов разметок игроков:\n",
    "<ol>\n",
    "    <li>Автоматические разметки:</li>\n",
    "    <ul>\n",
    "        <li>Запускаются ежедневно через Airflow DAG.</li>\n",
    "        <li>Игроки получают запись в таблице, если попадают в разметку, и не получают, если не попадают.</li>\n",
    "    </ul>\n",
    "    <li>Ручные разметки:</li>\n",
    "    <ul>\n",
    "        <li>Формируются операторами вручную: при попадании добавляется новая строка в таблицу, если игрок больше не должен там быть - статус меняется на амнистирован</li>\n",
    "        <li>Данные хранятся в файлах, обработка которых также выполняется через Airflow DAG.</li>\n",
    "    </ul>\n",
    "</ol>\n",
    "<p>Примерный объем записей 100 тысяч по разметке в день.</p>"
   ]
  },
  {
   "cell_type": "markdown",
   "id": "6c0e3453-141b-4133-8c33-16aad1a5f396",
   "metadata": {},
   "source": [
    "## Проблема\n",
    "<p>Разметки создавались разными командами в разное время и имеют различные форматы.</p>"
   ]
  },
  {
   "cell_type": "markdown",
   "id": "ac712ce6-a490-4121-a952-e9e48c03e596",
   "metadata": {},
   "source": [
    "## Задача \n",
    "<p>Разработать архитектуру сводной таблицы, объединяющей разметки в единую структуру.</p>"
   ]
  },
  {
   "cell_type": "markdown",
   "id": "9458c09f-07f5-4ce1-aaef-5c52d4f8f1d7",
   "metadata": {},
   "source": [
    "## Цели\n",
    "<ol>\n",
    "    <li>Одним простым запросом понимать состояние игрока на конкретный момент времени - в каких разметках у него метка 1</li>\n",
    "    <li>Хранить историю игрока: когда попал в разметку, когда перестал попадать, когда попал снова</li>\n",
    "</ol>"
   ]
  },
  {
   "cell_type": "markdown",
   "id": "1cdca5f1-cf2e-485e-86ba-257b587bf2e1",
   "metadata": {},
   "source": [
    "## Подход к решению проблемы и достижению целей\n",
    "\n",
    "<p>Исходя из 1 цели, мы можем предположить, что нужен запрос вида\n",
    "<pre><code>\n",
    "SELECT * FROM player_annotations pa WHERE pa.Target = 1\n",
    "</code></pre>\n",
    "</p>\n",
    "<p>Либо, если нам нужен конкретный игрок</p>\n",
    "<pre><code>\n",
    "SELECT * FROM player_annotations pa WHERE pa.Target = 1 AND pa.PlayerID = 25\n",
    "</code></pre>"
   ]
  },
  {
   "cell_type": "markdown",
   "id": "6367e4fd-efda-40a3-ac5d-92d795aff9b9",
   "metadata": {},
   "source": [
    "<p>Здесь есть нюанс, что метка - по сути означает, что у игрока нет записи Detected от прошлого числа из автоматической разметки или нет записей в ручной разметке. В нашем случае проще всего будет использовать логику пустой даты. <br>\n",
    "<b>Пример 1:</b> игрок получил автоматический Detected 10.02.2025 и мы записали это в конечную сводную таблицу с пустой датой окончания. В день, когда автоматическая система не присвоила ему Detected, мы ставим дату окончания. <br>\n",
    "<b>Пример 2:</b> игрока записали в файл 10.02.2025 и мы спарсили это в конечную таблицу с пустой датой окончания. В день, когда появилась запись Amnisted, мы ставим дату окончания. <br>\n",
    "</p>"
   ]
  },
  {
   "cell_type": "markdown",
   "id": "14f20f06-a759-44dd-9e5f-2008f03193d2",
   "metadata": {},
   "source": [
    "<p>Соответственно, SQL запрос изменится:\n",
    "<pre><code>\n",
    "SELECT * FROM player_annotations pa WHERE pa.valid_until IS NULL\n",
    "</code></pre>\n",
    "</p>\n",
    "С помощью такой логики, мы получим всего 2 возможных строки: <br>\n",
    "<ul>\n",
    "    <li>для автоматической разметки</li>\n",
    "    <li>для ручной разметки</li>\n",
    "</ul>\n",
    "А по запросу\n",
    "<pre><code>\n",
    "SELECT * FROM player_annotations pa WHERE pa.PlayerID = 25\n",
    "</code></pre>\n",
    "Мы получим всю историю игрока, тем самым мы достигнем второй цели"
   ]
  },
  {
   "cell_type": "markdown",
   "id": "8ca774a7-0184-4fe3-ab40-50c92d242e6c",
   "metadata": {},
   "source": [
    "## Структура сводной таблицы\n",
    "<p>\n",
    "    <pre><code>\n",
    "CREATE TABLE player_annotations (\n",
    "    ID UInt64,                      -- Уникальный идентификатор записи\n",
    "    PlayerID UInt64,                -- Идентификатор игрока\n",
    "    DetectedType Enum('Automatic' = 1, 'Manual' = 2),     -- Тип разметки\n",
    "    ValidFromDateTime,              -- Время начала действия разметки\n",
    "    ValidUntil Nullable(DateTime),  -- Время окончания действия разметки\n",
    "    CreatedBy String,               -- Кто установил (автоматическая или конкретный человек/файл)\n",
    "    PRIMARY KEY (PlayerID, ID)  \n",
    ") ENGINE = MergeTree()\n",
    "ORDER BY (PlayerID, ID);\n",
    "\n",
    "</code></pre>\n",
    "</p>"
   ]
  },
  {
   "cell_type": "markdown",
   "id": "000692a5-6d0c-4056-8880-812432a21aa0",
   "metadata": {},
   "source": [
    "<p>Зачем нужно поле <b>CreatedBy?</b><br>\n",
    "Исходя из своего опыта, могу сказать, что это поле нужно для дальнейшей аналитики и раздачи кнутов и пряников. Когда нам потребуется понять кто из операторов выдал Detected или Amnisted, количество и т.д. С автоматической всё понятно.\n",
    "</p>"
   ]
  },
  {
   "cell_type": "markdown",
   "id": "c43cbc2f-c168-40ef-ae08-e0d9788f472b",
   "metadata": {},
   "source": [
    "## Логика добавления записей"
   ]
  },
  {
   "cell_type": "markdown",
   "id": "bbde0e7d-ed0b-4827-9c61-3166f18b34d0",
   "metadata": {},
   "source": [
    "![изображения](diagram.png)"
   ]
  },
  {
   "cell_type": "markdown",
   "id": "e0311c4f-9084-4b44-ae59-a0c39849fb7d",
   "metadata": {},
   "source": [
    "<p>Как видно из графа, у нас будет корень - выгрузка из сводной таблицы записей с пустой датой и 2 ветви Auto и Manual. В Airflow мы можем пойти двумя путями:\n",
    "<ul>\n",
    "    <li>распараллелить эти две таски</li>\n",
    "    <li>выполнять их друг за другом</li>\n",
    "</ul>\n",
    "Из ТЗ могу предположить, что эти две разметки не влияют друг на другом, а значит нам подойдёт любой вариант\n",
    "</p>"
   ]
  },
  {
   "cell_type": "code",
   "execution_count": null,
   "id": "4a6ebb69-2d5d-4bee-a36a-7270b01fbfd5",
   "metadata": {},
   "outputs": [],
   "source": [
    "from airflow import DAG\n",
    "from airflow.operators.python import PythonOperator\n",
    "import pandas as pd\n",
    "import clickhouse_connect\n",
    "from datetime import datetime, timedelta\n",
    "\n",
    "# Настройки ClickHouse\n",
    "CLICKHOUSE_HOST = 'your-clickhouse-host'\n",
    "CLICKHOUSE_DB = 'your_database'\n",
    "\n",
    "# Функция для загрузки данных из ClickHouse\n",
    "def fetch_null_valid_until(**kwargs):\n",
    "    client = clickhouse_connect.get_client(host=CLICKHOUSE_HOST, database=CLICKHOUSE_DB)\n",
    "    \n",
    "    query = \"SELECT * FROM player_annotations WHERE valid_until IS NULL\"\n",
    "    result = client.query(query)\n",
    "\n",
    "    df = pd.DataFrame(result.result_rows, columns=[col[0] for col in result.result_columns])\n",
    "\n",
    "    # Сохраняем DataFrame в XCom\n",
    "    kwargs['ti'].xcom_push(key='player_data', value=df.to_dict())\n",
    "\n",
    "# Функция автоматической аннотации и вставка в ClickHouse\n",
    "def auto_annotation(**kwargs):\n",
    "    ti = kwargs['ti']\n",
    "    df = pd.DataFrame.from_dict(ti.xcom_pull(task_ids='fetch_null_valid_until', key='player_data'))\n",
    "\n",
    "    # Логика авто-аннотации\n",
    "    df['DetectedType'] = 'Automatic'\n",
    "    df['Status'] = 'Detected'\n",
    "    df['valid_until'] = datetime.now().strftime('%Y-%m-%d %H:%M:%S')\n",
    "\n",
    "    # Вставка в ClickHouse\n",
    "    client = clickhouse_connect.get_client(host=CLICKHOUSE_HOST, database=CLICKHOUSE_DB)\n",
    "    \n",
    "    insert_query = '''\n",
    "        INSERT INTO player_annotations (PlayerID, DetectAt, Status, DetectedType, valid_from, valid_until)\n",
    "        VALUES\n",
    "    '''\n",
    "    values = [tuple(row) for row in df[['PlayerID', 'DetectAt', 'Status', 'DetectedType', 'valid_from', 'valid_until']].to_numpy()]\n",
    "\n",
    "    client.insert('player_annotations', values, column_names=['PlayerID', 'DetectAt', 'Status', 'DetectedType', 'valid_from', 'valid_until'])\n",
    "\n",
    "# Функция ручной аннотации и вставка в ClickHouse\n",
    "def manual_annotation(**kwargs):\n",
    "    ti = kwargs['ti']\n",
    "    df = pd.DataFrame.from_dict(ti.xcom_pull(task_ids='fetch_null_valid_until', key='player_data'))\n",
    "\n",
    "    # Логика ручной аннотации\n",
    "    df['DetectedType'] = 'Manual'\n",
    "    df['Status'] = 'Amnisted'\n",
    "    df['valid_until'] = datetime.now().strftime('%Y-%m-%d %H:%M:%S')\n",
    "\n",
    "    # Вставка в ClickHouse\n",
    "    client = clickhouse_connect.get_client(host=CLICKHOUSE_HOST, database=CLICKHOUSE_DB)\n",
    "    \n",
    "    insert_query = '''\n",
    "        INSERT INTO player_annotations (PlayerID, DetectAt, Status, DetectedType, valid_from, valid_until)\n",
    "        VALUES\n",
    "    '''\n",
    "    values = [tuple(row) for row in df[['PlayerID', 'DetectAt', 'Status', 'DetectedType', 'valid_from', 'valid_until']].to_numpy()]\n",
    "\n",
    "    client.insert('player_annotations', values, column_names=['PlayerID', 'DetectAt', 'Status', 'DetectedType', 'valid_from', 'valid_until'])\n",
    "\n",
    "# Определяем DAG\n",
    "default_args = {\n",
    "    'owner': 'airflow',\n",
    "    'start_date': datetime(2024, 2, 18),\n",
    "    'retries': 5,  # Количество попыток перезапуска\n",
    "    'retry_delay': timedelta(minutes=30),  # Интервал между перезапусками\n",
    "}\n",
    "\n",
    "dag = DAG(\n",
    "    'clickhouse_annotation_pipeline',\n",
    "    default_args=default_args,\n",
    "    schedule_interval=None,\n",
    "    catchup=False\n",
    ")\n",
    "\n",
    "# Задача: выгрузка данных из ClickHouse\n",
    "fetch_data = PythonOperator(\n",
    "    task_id='fetch_null_valid_until',\n",
    "    python_callable=fetch_null_valid_until,\n",
    "    provide_context=True,\n",
    "    dag=dag\n",
    ")\n",
    "\n",
    "# Задачи аннотации (зависят от fetch_data)\n",
    "auto_annotate = PythonOperator(\n",
    "    task_id='auto_annotation',\n",
    "    python_callable=auto_annotation,\n",
    "    provide_context=True,\n",
    "    dag=dag\n",
    ")\n",
    "\n",
    "manual_annotate = PythonOperator(\n",
    "    task_id='manual_annotation',\n",
    "    python_callable=manual_annotation,\n",
    "    provide_context=True,\n",
    "    dag=dag\n",
    ")\n",
    "\n",
    "# Очередность выполнения\n",
    "fetch_data >> [auto_annotate, manual_annotate]\n"
   ]
  }
 ],
 "metadata": {
  "kernelspec": {
   "display_name": "Python 3 (ipykernel)",
   "language": "python",
   "name": "python3"
  },
  "language_info": {
   "codemirror_mode": {
    "name": "ipython",
    "version": 3
   },
   "file_extension": ".py",
   "mimetype": "text/x-python",
   "name": "python",
   "nbconvert_exporter": "python",
   "pygments_lexer": "ipython3",
   "version": "3.10.11"
  }
 },
 "nbformat": 4,
 "nbformat_minor": 5
}
